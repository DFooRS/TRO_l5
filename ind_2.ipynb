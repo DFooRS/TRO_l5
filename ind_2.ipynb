{
 "cells": [
  {
   "cell_type": "code",
   "execution_count": 2,
   "id": "43fa2a11",
   "metadata": {},
   "outputs": [],
   "source": [
    "import numpy as np\n",
    "import matplotlib.pyplot as plt\n",
    "%matplotlib inline"
   ]
  },
  {
   "cell_type": "markdown",
   "id": "96da7172",
   "metadata": {},
   "source": [
    "# Фо́рмула Циолко́вского \n",
    "\n",
    "определяет скорость, которую развивает летательный аппарат под воздействием тяги ракетного двигателя, неизменной по направлению, при отсутствии всех других сил. Эта скорость называется характеристической скоростью. Формула Циолковского для многоступенчатой ракеты может быть записана в следующем виде:\n",
    "\n",
    "$ V = \\sum_{i=1}^N I_i * g * ln(\\frac{M_0 + \\sum_{j=i}^N M_{1j}}{M_0 + M_{2i} - M_{1i} + \\sum_{j=i}^N  M_{1j}})$, где:\n",
    "\n",
    "$ M_{1i} $ - масса заправленной i-й ступени ракеты\n",
    "\n",
    "$ M_{2i} $ - масса i-й ступени ракеты без топлива\n",
    "\n",
    "$ I_{i} $ - удельный импульс двигателя i-й ступени\n",
    "\n",
    "$ M_{0} $ - масса полезной нагрузки\n",
    "\n",
    "$ N $ - число ступеней ракеты\n",
    "\n",
    "# Для ракеты СОЮЗ-2:\n",
    "\n",
    "$ N = 3 $\n",
    "\n",
    "$ M_{11} = 44413 $ кг\n",
    "\n",
    "$ M_{21} = 3784 $ кг\n",
    "\n",
    "$ I_{1} = 263 $ с\n",
    "\n",
    "$ M_{12} = 99765 $ кг\n",
    "\n",
    "$ M_{22} = 6545 $ кг\n",
    "\n",
    "$ I_{2} = 255 $ с\n",
    "\n",
    "$ M_{13} = 27755 $ кг\n",
    "\n",
    "$ M_{23} = 2355 $ кг\n",
    "\n",
    "$ I_{3} = 326 $ с\n",
    "\n",
    "$ M_{0} = 2800 $ кг"
   ]
  },
  {
   "cell_type": "code",
   "execution_count": 18,
   "id": "1d7fa731",
   "metadata": {},
   "outputs": [
    {
     "data": {
      "text/plain": [
       "<BarContainer object of 3 artists>"
      ]
     },
     "execution_count": 18,
     "metadata": {},
     "output_type": "execute_result"
    },
    {
     "data": {
      "image/png": "[encoded data removed]",
      "text/plain": [
       "<Figure size 640x480 with 1 Axes>"
      ]
     },
     "metadata": {},
     "output_type": "display_data"
    }
   ],
   "source": [
    "I = np.array([263, 255, 326])\n",
    "M1 = np.array([44413 * 4, 99765, 27755])\n",
    "M2 = np.array([3784 * 4, 6545, 2355])\n",
    "M0 = 2800\n",
    "N = 3\n",
    "V = ([0, 0, 0])\n",
    "\n",
    "for i, mass2 in enumerate(M2):\n",
    "    M1_sum = np.sum([M1[j] for j in range(i, N)])\n",
    "    V[i] = 9.8 * I[i] * np.log((M0 + M1_sum) / (M0 + mass2 - M1[i] + M1_sum))\n",
    "    \n",
    "labels = [\"1 ступень\", \"2 ступень\", \"3 ступень\"]\n",
    "plt.bar(labels, V)"
   ]
  },
  {
   "cell_type": "code",
   "execution_count": null,
   "id": "f013e4b0",
   "metadata": {},
   "outputs": [],
   "source": []
  },
  {
   "cell_type": "code",
   "execution_count": null,
   "id": "c3cae884",
   "metadata": {},
   "outputs": [],
   "source": []
  }
 ],
 "metadata": {
  "kernelspec": {
   "display_name": "Python 3 (ipykernel)",
   "language": "python",
   "name": "python3"
  },
  "language_info": {
   "codemirror_mode": {
    "name": "ipython",
    "version": 3
   },
   "file_extension": ".py",
   "mimetype": "text/x-python",
   "name": "python",
   "nbconvert_exporter": "python",
   "pygments_lexer": "ipython3",
   "version": "3.9.13"
  }
 },
 "nbformat": 4,
 "nbformat_minor": 5
}
